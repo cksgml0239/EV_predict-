{
  "nbformat": 4,
  "nbformat_minor": 0,
  "metadata": {
    "kernelspec": {
      "display_name": "Python 3",
      "language": "python",
      "name": "python3"
    },
    "language_info": {
      "codemirror_mode": {
        "name": "ipython",
        "version": 3
      },
      "file_extension": ".py",
      "mimetype": "text/x-python",
      "name": "python",
      "nbconvert_exporter": "python",
      "pygments_lexer": "ipython3",
      "version": "3.7.3"
    },
    "colab": {
      "name": "전기차_판매_예측.ipynb",
      "provenance": []
    }
  },
  "cells": [
    {
      "cell_type": "code",
      "metadata": {
        "id": "coE8B1-dpN8N",
        "colab_type": "code",
        "colab": {}
      },
      "source": [
        "import pandas as pd"
      ],
      "execution_count": 0,
      "outputs": []
    },
    {
      "cell_type": "code",
      "metadata": {
        "id": "9nTwJIYApN8S",
        "colab_type": "code",
        "colab": {}
      },
      "source": [
        "tr = pd.read_excel(\"./data/project/train.xlsx\")\n",
        "test = pd.read_excel(\"./data/project/test.xlsx\")"
      ],
      "execution_count": 0,
      "outputs": []
    },
    {
      "cell_type": "code",
      "metadata": {
        "id": "HdL4S4afpN8W",
        "colab_type": "code",
        "colab": {},
        "outputId": "d0d95360-2117-4715-de4a-4b322a0935e7"
      },
      "source": [
        "print(tr.columns)\n",
        "print(test.columns)\n",
        "tr"
      ],
      "execution_count": 0,
      "outputs": [
        {
          "output_type": "stream",
          "text": [
            "Index(['year', 'actual', 'vehicle', 'charging station', 'article',\n",
            "       'global-EV'],\n",
            "      dtype='object')\n",
            "Index(['year', 'actual', 'vehicle'], dtype='object')\n"
          ],
          "name": "stdout"
        },
        {
          "output_type": "execute_result",
          "data": {
            "text/html": [
              "<div>\n",
              "<style scoped>\n",
              "    .dataframe tbody tr th:only-of-type {\n",
              "        vertical-align: middle;\n",
              "    }\n",
              "\n",
              "    .dataframe tbody tr th {\n",
              "        vertical-align: top;\n",
              "    }\n",
              "\n",
              "    .dataframe thead th {\n",
              "        text-align: right;\n",
              "    }\n",
              "</style>\n",
              "<table border=\"1\" class=\"dataframe\">\n",
              "  <thead>\n",
              "    <tr style=\"text-align: right;\">\n",
              "      <th></th>\n",
              "      <th>year</th>\n",
              "      <th>actual</th>\n",
              "      <th>vehicle</th>\n",
              "      <th>charging station</th>\n",
              "      <th>article</th>\n",
              "      <th>global-EV</th>\n",
              "    </tr>\n",
              "  </thead>\n",
              "  <tbody>\n",
              "    <tr>\n",
              "      <th>0</th>\n",
              "      <td>1</td>\n",
              "      <td>2011</td>\n",
              "      <td>338</td>\n",
              "      <td>33</td>\n",
              "      <td>11888</td>\n",
              "      <td>50000</td>\n",
              "    </tr>\n",
              "    <tr>\n",
              "      <th>1</th>\n",
              "      <td>2</td>\n",
              "      <td>2012</td>\n",
              "      <td>753</td>\n",
              "      <td>118</td>\n",
              "      <td>8840</td>\n",
              "      <td>125760</td>\n",
              "    </tr>\n",
              "    <tr>\n",
              "      <th>2</th>\n",
              "      <td>3</td>\n",
              "      <td>2013</td>\n",
              "      <td>780</td>\n",
              "      <td>177</td>\n",
              "      <td>14588</td>\n",
              "      <td>212986</td>\n",
              "    </tr>\n",
              "    <tr>\n",
              "      <th>3</th>\n",
              "      <td>4</td>\n",
              "      <td>2014</td>\n",
              "      <td>1075</td>\n",
              "      <td>237</td>\n",
              "      <td>22462</td>\n",
              "      <td>315519</td>\n",
              "    </tr>\n",
              "    <tr>\n",
              "      <th>4</th>\n",
              "      <td>5</td>\n",
              "      <td>2015</td>\n",
              "      <td>2907</td>\n",
              "      <td>337</td>\n",
              "      <td>32971</td>\n",
              "      <td>565668</td>\n",
              "    </tr>\n",
              "    <tr>\n",
              "      <th>5</th>\n",
              "      <td>6</td>\n",
              "      <td>2016</td>\n",
              "      <td>5914</td>\n",
              "      <td>491</td>\n",
              "      <td>50272</td>\n",
              "      <td>773600</td>\n",
              "    </tr>\n",
              "    <tr>\n",
              "      <th>6</th>\n",
              "      <td>7</td>\n",
              "      <td>2017</td>\n",
              "      <td>13826</td>\n",
              "      <td>933</td>\n",
              "      <td>68660</td>\n",
              "      <td>1225000</td>\n",
              "    </tr>\n",
              "    <tr>\n",
              "      <th>7</th>\n",
              "      <td>8</td>\n",
              "      <td>2018</td>\n",
              "      <td>31696</td>\n",
              "      <td>1699</td>\n",
              "      <td>110078</td>\n",
              "      <td>2018247</td>\n",
              "    </tr>\n",
              "  </tbody>\n",
              "</table>\n",
              "</div>"
            ],
            "text/plain": [
              "   year  actual  vehicle  charging station  article  global-EV\n",
              "0     1    2011      338                33    11888      50000\n",
              "1     2    2012      753               118     8840     125760\n",
              "2     3    2013      780               177    14588     212986\n",
              "3     4    2014     1075               237    22462     315519\n",
              "4     5    2015     2907               337    32971     565668\n",
              "5     6    2016     5914               491    50272     773600\n",
              "6     7    2017    13826               933    68660    1225000\n",
              "7     8    2018    31696              1699   110078    2018247"
            ]
          },
          "metadata": {
            "tags": []
          },
          "execution_count": 3
        }
      ]
    },
    {
      "cell_type": "code",
      "metadata": {
        "id": "uPZ2TLwNpN8b",
        "colab_type": "code",
        "colab": {}
      },
      "source": [
        "sel = ['actual']\n",
        "X = tr[sel]\n",
        "y = tr['vehicle']\n",
        "# print(X[5:])"
      ],
      "execution_count": 0,
      "outputs": []
    },
    {
      "cell_type": "code",
      "metadata": {
        "id": "aKUVm2YMpN8e",
        "colab_type": "code",
        "colab": {}
      },
      "source": [
        "from sklearn.linear_model import LinearRegression\n",
        "from sklearn.preprocessing import PolynomialFeatures"
      ],
      "execution_count": 0,
      "outputs": []
    },
    {
      "cell_type": "code",
      "metadata": {
        "id": "VyO6jglcpN8i",
        "colab_type": "code",
        "colab": {},
        "outputId": "0b2b0ff6-647a-4601-f158-46b8490ceafb"
      },
      "source": [
        "model = PolynomialFeatures(degree=2)\n",
        "x_poly = model.fit_transform(X)\n",
        "lin_reg_2 = LinearRegression()\n",
        "lin_reg_2.fit(x_poly, y)\n",
        "lin_reg_2"
      ],
      "execution_count": 0,
      "outputs": [
        {
          "output_type": "execute_result",
          "data": {
            "text/plain": [
              "LinearRegression(copy_X=True, fit_intercept=True, n_jobs=None, normalize=False)"
            ]
          },
          "metadata": {
            "tags": []
          },
          "execution_count": 27
        }
      ]
    },
    {
      "cell_type": "code",
      "metadata": {
        "id": "IK7vwwmJpN8l",
        "colab_type": "code",
        "colab": {}
      },
      "source": [
        "import matplotlib.pyplot as plt"
      ],
      "execution_count": 0,
      "outputs": []
    },
    {
      "cell_type": "code",
      "metadata": {
        "id": "hpQCbQ3UpN8o",
        "colab_type": "code",
        "colab": {},
        "outputId": "0490aadf-eef2-4d72-cfb4-2589382efc19"
      },
      "source": [
        "plt.scatter(X, y, color='green', s=30)"
      ],
      "execution_count": 0,
      "outputs": [
        {
          "output_type": "execute_result",
          "data": {
            "text/plain": [
              "<matplotlib.collections.PathCollection at 0x1f9e6cf7a20>"
            ]
          },
          "metadata": {
            "tags": []
          },
          "execution_count": 28
        },
        {
          "output_type": "display_data",
          "data": {
            "image/png": "[encoded data removed]",
            "text/plain": [
              "<Figure size 432x288 with 1 Axes>"
            ]
          },
          "metadata": {
            "tags": [],
            "needs_background": "light"
          }
        }
      ]
    },
    {
      "cell_type": "code",
      "metadata": {
        "id": "JG8C2jdCpN8r",
        "colab_type": "code",
        "colab": {},
        "outputId": "a922c8a2-8494-46ad-8039-c7e226064c37"
      },
      "source": [
        "pred = lin_reg_2.predict(x_poly)\n",
        "plt.scatter(X, y, color='green')\n",
        "plt.plot(X, pred, color= 'blue')\n",
        "plt.title('EV Sales Trend')\n",
        "plt.xlabel('Year')\n",
        "plt.ylabel('Vehicle Sales')"
      ],
      "execution_count": 0,
      "outputs": [
        {
          "output_type": "execute_result",
          "data": {
            "text/plain": [
              "Text(0, 0.5, 'Vehicle Sales')"
            ]
          },
          "metadata": {
            "tags": []
          },
          "execution_count": 29
        },
        {
          "output_type": "display_data",
          "data": {
            "image/png": "[encoded data removed]",
            "text/plain": [
              "<Figure size 432x288 with 1 Axes>"
            ]
          },
          "metadata": {
            "tags": [],
            "needs_background": "light"
          }
        }
      ]
    },
    {
      "cell_type": "code",
      "metadata": {
        "id": "n2SW2REApN8u",
        "colab_type": "code",
        "colab": {}
      },
      "source": [
        "import numpy as np"
      ],
      "execution_count": 0,
      "outputs": []
    },
    {
      "cell_type": "code",
      "metadata": {
        "id": "R2VU0AYUpN8x",
        "colab_type": "code",
        "colab": {},
        "outputId": "c1ec0255-824c-4e98-fac1-9e50e4bc648a"
      },
      "source": [
        "year_dat = np.arange(2019, 2035)\n",
        "print(year_dat)\n",
        "newdata = pd.DataFrame( {'year':year_dat} )\n",
        "# newdata = pd.DataFrame( {'year':[9, 10, 11,12,13,14,15,16, 17, 18, 19, 20]} )\n",
        "x_poly_new = model.fit_transform(newdata)\n",
        "newdata"
      ],
      "execution_count": 0,
      "outputs": [
        {
          "output_type": "stream",
          "text": [
            "[2019 2020 2021 2022 2023 2024 2025 2026 2027 2028 2029 2030 2031 2032\n",
            " 2033 2034]\n"
          ],
          "name": "stdout"
        },
        {
          "output_type": "execute_result",
          "data": {
            "text/html": [
              "<div>\n",
              "<style scoped>\n",
              "    .dataframe tbody tr th:only-of-type {\n",
              "        vertical-align: middle;\n",
              "    }\n",
              "\n",
              "    .dataframe tbody tr th {\n",
              "        vertical-align: top;\n",
              "    }\n",
              "\n",
              "    .dataframe thead th {\n",
              "        text-align: right;\n",
              "    }\n",
              "</style>\n",
              "<table border=\"1\" class=\"dataframe\">\n",
              "  <thead>\n",
              "    <tr style=\"text-align: right;\">\n",
              "      <th></th>\n",
              "      <th>year</th>\n",
              "    </tr>\n",
              "  </thead>\n",
              "  <tbody>\n",
              "    <tr>\n",
              "      <th>0</th>\n",
              "      <td>2019</td>\n",
              "    </tr>\n",
              "    <tr>\n",
              "      <th>1</th>\n",
              "      <td>2020</td>\n",
              "    </tr>\n",
              "    <tr>\n",
              "      <th>2</th>\n",
              "      <td>2021</td>\n",
              "    </tr>\n",
              "    <tr>\n",
              "      <th>3</th>\n",
              "      <td>2022</td>\n",
              "    </tr>\n",
              "    <tr>\n",
              "      <th>4</th>\n",
              "      <td>2023</td>\n",
              "    </tr>\n",
              "    <tr>\n",
              "      <th>5</th>\n",
              "      <td>2024</td>\n",
              "    </tr>\n",
              "    <tr>\n",
              "      <th>6</th>\n",
              "      <td>2025</td>\n",
              "    </tr>\n",
              "    <tr>\n",
              "      <th>7</th>\n",
              "      <td>2026</td>\n",
              "    </tr>\n",
              "    <tr>\n",
              "      <th>8</th>\n",
              "      <td>2027</td>\n",
              "    </tr>\n",
              "    <tr>\n",
              "      <th>9</th>\n",
              "      <td>2028</td>\n",
              "    </tr>\n",
              "    <tr>\n",
              "      <th>10</th>\n",
              "      <td>2029</td>\n",
              "    </tr>\n",
              "    <tr>\n",
              "      <th>11</th>\n",
              "      <td>2030</td>\n",
              "    </tr>\n",
              "    <tr>\n",
              "      <th>12</th>\n",
              "      <td>2031</td>\n",
              "    </tr>\n",
              "    <tr>\n",
              "      <th>13</th>\n",
              "      <td>2032</td>\n",
              "    </tr>\n",
              "    <tr>\n",
              "      <th>14</th>\n",
              "      <td>2033</td>\n",
              "    </tr>\n",
              "    <tr>\n",
              "      <th>15</th>\n",
              "      <td>2034</td>\n",
              "    </tr>\n",
              "  </tbody>\n",
              "</table>\n",
              "</div>"
            ],
            "text/plain": [
              "    year\n",
              "0   2019\n",
              "1   2020\n",
              "2   2021\n",
              "3   2022\n",
              "4   2023\n",
              "5   2024\n",
              "6   2025\n",
              "7   2026\n",
              "8   2027\n",
              "9   2028\n",
              "10  2029\n",
              "11  2030\n",
              "12  2031\n",
              "13  2032\n",
              "14  2033\n",
              "15  2034"
            ]
          },
          "metadata": {
            "tags": []
          },
          "execution_count": 30
        }
      ]
    },
    {
      "cell_type": "code",
      "metadata": {
        "id": "qekxj_orpN81",
        "colab_type": "code",
        "colab": {},
        "outputId": "fd3b5e26-537d-4445-e216-aec7d2698599"
      },
      "source": [
        "pred_new = lin_reg_2.predict(x_poly_new)\n",
        "pred_new"
      ],
      "execution_count": 0,
      "outputs": [
        {
          "output_type": "execute_result",
          "data": {
            "text/plain": [
              "array([ 41097.5535574 ,  56528.86307621,  74327.13687992,  94492.37496853,\n",
              "       117024.57734299, 141923.74400139, 169189.87494469, 198822.97017384,\n",
              "       230823.02968597, 265190.05348396, 301924.0415678 , 341024.99393654,\n",
              "       382492.91059017, 426327.79152966, 472529.63675308, 521098.44626141])"
            ]
          },
          "metadata": {
            "tags": []
          },
          "execution_count": 31
        }
      ]
    },
    {
      "cell_type": "code",
      "metadata": {
        "id": "aQKuIp4FpN84",
        "colab_type": "code",
        "colab": {},
        "outputId": "ca8b60fe-8b53-435d-caf0-007325ade526"
      },
      "source": [
        "plt.scatter(X, y, color='red')\n",
        "plt.scatter(newdata, pred_new, color='orange')  # 예측\n",
        "\n",
        "plt.plot(X, pred, color= 'blue')\n",
        "plt.plot(newdata, pred_new, color= 'red')         # 예측\n",
        "\n",
        "plt.xlim(2010, 2035)\n",
        "plt.ylim(-10000, 550000)\n",
        "plt.title('EV Sales Trend (prospect)')\n",
        "plt.xlabel('Year')\n",
        "plt.ylabel('Vehicle')\n"
      ],
      "execution_count": 0,
      "outputs": [
        {
          "output_type": "execute_result",
          "data": {
            "text/plain": [
              "Text(0, 0.5, 'Vehicle')"
            ]
          },
          "metadata": {
            "tags": []
          },
          "execution_count": 36
        },
        {
          "output_type": "display_data",
          "data": {
            "image/png": "[encoded data removed]",
            "text/plain": [
              "<Figure size 432x288 with 1 Axes>"
            ]
          },
          "metadata": {
            "tags": [],
            "needs_background": "light"
          }
        }
      ]
    },
    {
      "cell_type": "code",
      "metadata": {
        "id": "ctS6WYSnpN87",
        "colab_type": "code",
        "colab": {}
      },
      "source": [
        "sub = pd.read_excel(\"./data/project/sub.xlsx\")"
      ],
      "execution_count": 0,
      "outputs": []
    },
    {
      "cell_type": "code",
      "metadata": {
        "id": "ruKKawmhpN9F",
        "colab_type": "code",
        "colab": {}
      },
      "source": [
        "sub['vehicle'] = pred_new"
      ],
      "execution_count": 0,
      "outputs": []
    },
    {
      "cell_type": "code",
      "metadata": {
        "id": "nuK3dio2pN9I",
        "colab_type": "code",
        "colab": {}
      },
      "source": [
        "sub.to_excel(\"trial_last_0917.xlsx\", index=False)"
      ],
      "execution_count": 0,
      "outputs": []
    }
  ]
}